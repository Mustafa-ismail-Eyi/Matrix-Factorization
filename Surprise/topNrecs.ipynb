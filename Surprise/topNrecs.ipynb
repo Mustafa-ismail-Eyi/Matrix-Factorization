{
 "cells": [
  {
   "cell_type": "code",
   "execution_count": 1,
   "metadata": {},
   "outputs": [],
   "source": [
    "#GETTING TOP-N RECOMMANDATIONS FOR EACH USER\n",
    "from collections import defaultdict\n",
    "from surprise import SVD\n",
    "from surprise import Dataset\n",
    "\n",
    "def get_top_n(predictions, n=10):\n",
    "    top_n = defaultdict(list)\n",
    "    # first map the predictions to each user\n",
    "    for uid, iid, true_r, est, _ in predictions:\n",
    "        top_n[uid].append((iid, est))\n",
    "    #then sort the predictions for each user and retrieve the k higest ones.\n",
    "    for uid, user_ratings in top_n.items():\n",
    "        user_ratings.sort(key=lambda x: x[1], reverse=True)\n",
    "        top_n[uid] = user_ratings[:n]\n",
    "    return top_n             \n"
   ]
  },
  {
   "cell_type": "code",
   "execution_count": 2,
   "metadata": {},
   "outputs": [],
   "source": [
    "#first train an svd algo on data set\n",
    "data = Dataset.load_builtin()\n"
   ]
  },
  {
   "cell_type": "code",
   "execution_count": 3,
   "metadata": {},
   "outputs": [
    {
     "output_type": "execute_result",
     "data": {
      "text/plain": "<surprise.prediction_algorithms.matrix_factorization.SVD at 0x1e410c90b88>"
     },
     "metadata": {},
     "execution_count": 3
    }
   ],
   "source": [
    "# then split the data set into training dataset and test dataset\n",
    "# split dataset\n",
    "trainset = data.build_full_trainset()\n",
    "#train the algorithm SVD on given dataset\n",
    "#algorithm loaded\n",
    "algo = SVD()\n",
    "#train the algo\n",
    "algo.fit(trainset)\n",
    "#training is done"
   ]
  },
  {
   "cell_type": "code",
   "execution_count": 4,
   "metadata": {
    "tags": [
     "outputPrepend"
    ]
   },
   "outputs": [
    {
     "output_type": "stream",
     "name": "stdout",
     "text": "318', '192']\nuser id  751 recommended item id ['408', '318', '114', '169', '427', '191', '921', '528', '12', '1039']\nuser id  756 recommended item id ['408', '483', '114', '318', '64', '480', '127', '515', '187', '513']\nuser id  757 recommended item id ['603', '169', '178', '483', '12', '511', '114', '408', '357', '480']\nuser id  752 recommended item id ['89', '192', '603', '178', '98', '408', '604', '659', '114', '185']\nuser id  758 recommended item id ['408', '357', '246', '169', '530', '498', '647', '648', '178', '198']\nuser id  732 recommended item id ['603', '318', '64', '427', '191', '173', '496', '515', '12', '408']\nuser id  762 recommended item id ['50', '318', '114', '474', '963', '272', '313', '923', '169', '12']\nuser id  744 recommended item id ['169', '173', '408', '272', '313', '318', '134', '98', '199', '641']\nuser id  754 recommended item id ['318', '357', '178', '513', '408', '50', '528', '169', '174', '483']\nuser id  753 recommended item id ['479', '318', '178', '429', '114', '408', '603', '169', '12', '496']\nuser id  763 recommended item id ['169', '474', '178', '512', '408', '114', '603', '134', '480', '179']\nuser id  764 recommended item id ['1194', '603', '528', '483', '641', '511', '199', '178', '316', '963']\nuser id  767 recommended item id ['169', '923', '963', '50', '64', '258', '12', '174', '223', '272']\nuser id  769 recommended item id ['169', '515', '318', '50', '963', '12', '408', '173', '64', '603']\nuser id  755 recommended item id ['318', '64', '513', '169', '427', '174', '527', '8', '408', '496']\nuser id  771 recommended item id ['430', '923', '513', '705', '136', '474', '528', '480', '318', '57']\nuser id  768 recommended item id ['496', '178', '98', '64', '316', '12', '169', '174', '480', '114']\nuser id  773 recommended item id ['513', '124', '483', '134', '9', '199', '474', '136', '603', '317']\nuser id  765 recommended item id ['169', '408', '513', '923', '519', '654', '318', '483', '114', '251']\nuser id  772 recommended item id ['496', '318', '64', '191', '12', '657', '480', '603', '98', '427']\nuser id  766 recommended item id ['408', '512', '515', '169', '480', '114', '513', '511', '12', '59']\nuser id  774 recommended item id ['408', '647', '474', '615', '169', '480', '603', '1449', '191', '316']\nuser id  760 recommended item id ['48', '318', '513', '64', '12', '611', '427', '515', '429', '923']\nuser id  761 recommended item id ['318', '96', '98', '357', '204', '174', '302', '172', '79', '265']\nuser id  777 recommended item id ['318', '313', '172', '64', '181', '603', '50', '963', '12', '496']\nuser id  759 recommended item id ['174', '173', '313', '64', '96', '169', '22', '114', '210', '316']\nuser id  776 recommended item id ['178', '114', '169', '172', '190', '357', '173', '480', '56', '408']\nuser id  780 recommended item id ['181', '285', '963', '170', '480', '169', '408', '64', '315', '132']\nuser id  779 recommended item id ['318', '483', '408', '178', '603', '64', '127', '480', '313', '515']\nuser id  778 recommended item id ['127', '318', '178', '12', '408', '474', '169', '511', '480', '185']\nuser id  782 recommended item id ['64', '22', '12', '114', '96', '169', '318', '69', '174', '173']\nuser id  786 recommended item id ['22', '963', '12', '170', '64', '603', '56', '316', '474', '205']\nuser id  784 recommended item id ['64', '169', '173', '318', '178', '408', '483', '480', '316', '12']\nuser id  770 recommended item id ['474', '98', '603', '515', '512', '480', '272', '48', '483', '408']\nuser id  788 recommended item id ['114', '272', '513', '611', '136', '479', '603', '57', '484', '124']\nuser id  789 recommended item id ['357', '56', '98', '483', '169', '187', '172', '89', '12', '178']\nuser id  790 recommended item id ['134', '114', '603', '657', '408', '483', '515', '199', '87', '12']\nuser id  787 recommended item id ['64', '190', '169', '265', '318', '272', '50', '83', '496', '408']\nuser id  783 recommended item id ['408', '169', '189', '483', '89', '272', '190', '474', '114', '185']\nuser id  785 recommended item id ['64', '178', '313', '169', '483', '408', '923', '173', '187', '172']\nuser id  794 recommended item id ['603', '480', '408', '318', '56', '357', '134', '169', '474', '185']\nuser id  781 recommended item id ['408', '357', '169', '480', '89', '427', '603', '23', '285', '192']\nuser id  796 recommended item id ['190', '963', '169', '966', '114', '1449', '651', '136', '408', '165']\nuser id  795 recommended item id ['408', '654', '483', '178', '479', '114', '474', '923', '134', '603']\nuser id  793 recommended item id ['313', '64', '408', '483', '169', '480', '318', '603', '474', '479']\nuser id  798 recommended item id ['64', '189', '169', '8', '318', '408', '963', '114', '316', '285']\nuser id  791 recommended item id ['64', '12', '114', '408', '483', '169', '318', '963', '480', '174']\nuser id  802 recommended item id ['187', '64', '12', '22', '651', '174', '169', '28', '50', '127']\nuser id  800 recommended item id ['318', '285', '169', '64', '302', '178', '408', '513', '603', '114']\nuser id  804 recommended item id ['114', '169', '178', '166', '641', '313', '136', '12', '45', '190']\nuser id  803 recommended item id ['179', '169', '302', '427', '318', '408', '275', '474', '603', '12']\nuser id  775 recommended item id ['169', '408', '318', '64', '12', '603', '114', '488', '483', '511']\nuser id  792 recommended item id ['169', '408', '114', '12', '483', '511', '187', '172', '963', '168']\nuser id  799 recommended item id ['408', '178', '114', '169', '318', '483', '357', '603', '302', '89']\nuser id  805 recommended item id ['134', '285', '170', '132', '647', '483', '199', '654', '484', '408']\nuser id  806 recommended item id ['134', '132', '64', '963', '199', '23', '427', '432', '513', '285']\nuser id  807 recommended item id ['114', '64', '963', '316', '613', '97', '651', '170', '660', '692']\nuser id  797 recommended item id ['172', '408', '174', '483', '12', '169', '318', '64', '519', '124']\nuser id  801 recommended item id ['603', '174', '272', '408', '178', '64', '169', '12', '173', '22']\nuser id  809 recommended item id ['408', '127', '114', '187', '285', '169', '192', '132', '12', '64']\nuser id  815 recommended item id ['963', '187', '64', '750', '511', '302', '520', '315', '316', '792']\nuser id  817 recommended item id ['114', '313', '515', '408', '169', '98', '183', '64', '173', '474']\nuser id  821 recommended item id ['515', '272', '178', '127', '169', '114', '136', '408', '603', '496']\nuser id  818 recommended item id ['12', '318', '603', '114', '64', '169', '479', '513', '178', '483']\nuser id  814 recommended item id ['12', '64', '408', '480', '174', '318', '114', '178', '302', '963']\nuser id  812 recommended item id ['272', '64', '22', '189', '190', '515', '114', '79', '408', '12']\nuser id  823 recommended item id ['483', '169', '251', '513', '511', '199', '114', '357', '14', '179']\nuser id  825 recommended item id ['692', '300', '318', '64', '69', '79', '210', '143', '736', '265']\nuser id  827 recommended item id ['50', '318', '480', '64', '483', '178', '357', '169', '408', '515']\nuser id  829 recommended item id ['50', '169', '127', '174', '64', '12', '285', '98', '357', '56']\nuser id  811 recommended item id ['474', '603', '480', '496', '483', '408', '178', '318', '64', '134']\nuser id  830 recommended item id ['318', '515', '408', '169', '615', '479', '114', '496', '178', '483']\nuser id  826 recommended item id ['114', '357', '408', '169', '318', '64', '659', '173', '272', '515']\nuser id  831 recommended item id ['98', '483', '318', '169', '114', '496', '178', '657', '269', '357']\nuser id  819 recommended item id ['98', '318', '483', '603', '357', '178', '134', '408', '480', '127']\nuser id  828 recommended item id ['483', '178', '285', '318', '114', '603', '493', '520', '22', '64']\nuser id  808 recommended item id ['515', '427', '479', '483', '318', '64', '169', '50', '511', '114']\nuser id  835 recommended item id ['169', '483', '408', '64', '178', '513', '251', '12', '512', '316']\nuser id  833 recommended item id ['513', '528', '603', '285', '480', '242', '499', '661', '408', '199']\nuser id  836 recommended item id ['50', '64', '474', '483', '408', '169', '651', '313', '127', '480']\nuser id  816 recommended item id ['496', '318', '515', '603', '64', '923', '483', '427', '178', '114']\nuser id  838 recommended item id ['515', '98', '483', '641', '493', '528', '136', '603', '132', '923']\nuser id  839 recommended item id ['64', '12', '480', '183', '483', '169', '408', '191', '318', '114']\nuser id  840 recommended item id ['318', '427', '178', '12', '114', '269', '408', '136', '641', '242']\nuser id  832 recommended item id ['483', '12', '272', '603', '22', '64', '480', '98', '169', '187']\nuser id  810 recommended item id ['302', '474', '86', '1', '98', '194', '603', '1137', '100', '515']\nuser id  844 recommended item id ['515', '272', '408', '64', '98', '178', '603', '169', '483', '479']\nuser id  843 recommended item id ['169', '408', '12', '178', '114', '641', '223', '1194', '483', '480']\nuser id  834 recommended item id ['318', '64', '408', '302', '12', '114', '191', '156', '474', '480']\nuser id  846 recommended item id ['100', '144', '272', '313', '408', '221', '963', '481', '169', '320']\nuser id  837 recommended item id ['318', '923', '69', '483', '496', '316', '64', '528', '515', '427']\nuser id  813 recommended item id ['12', '302', '480', '178', '484', '114', '316', '272', '64', '318']\nuser id  842 recommended item id ['64', '50', '12', '174', '42', '173', '318', '169', '527', '136']\nuser id  847 recommended item id ['169', '511', '114', '315', '408', '313', '64', '318', '272', '57']\nuser id  848 recommended item id ['515', '272', '408', '178', '64', '169', '313', '143', '315', '114']\nuser id  822 recommended item id ['318', '483', '64', '315', '285', '114', '316', '134', '12', '59']\nuser id  852 recommended item id ['603', '98', '357', '318', '427', '480', '64', '12', '272', '169']\nuser id  851 recommended item id ['181', '96', '114', '408', '257', '269', '195', '134', '268', '488']\nuser id  849 recommended item id ['302', '474', '265', '144', '95', '98', '194', '603', '100', '196']\nuser id  854 recommended item id ['408', '515', '209', '480', '320', '187', '963', '657', '1142', '192']\nuser id  850 recommended item id ['408', '64', '320', '114', '963', '316', '313', '735', '190', '966']\nuser id  858 recommended item id ['408', '169', '511', '603', '98', '513', '641', '165', '963', '709']\nuser id  853 recommended item id ['12', '178', '174', '483', '169', '408', '114', '98', '487', '963']\nuser id  855 recommended item id ['408', '64', '114', '169', '923', '483', '511', '357', '488', '318']\nuser id  824 recommended item id ['172', '50', '114', '127', '12', '493', '408', '480', '318', '189']\nuser id  845 recommended item id ['64', '318', '114', '408', '515', '480', '479', '963', '513', '657']\nuser id  841 recommended item id ['603', '174', '483', '408', '178', '318', '64', '169', '513', '427']\nuser id  859 recommended item id ['483', '114', '318', '64', '408', '199', '169', '493', '89', '513']\nuser id  862 recommended item id ['272', '408', '178', '169', '923', '488', '114', '646', '512', '487']\nuser id  856 recommended item id ['169', '318', '12', '22', '89', '64', '429', '603', '114', '98']\nuser id  820 recommended item id ['318', '408', '603', '515', '64', '480', '114', '427', '483', '272']\nuser id  863 recommended item id ['12', '603', '64', '11', '480', '963', '520', '408', '169', '657']\nuser id  860 recommended item id ['483', '318', '408', '187', '178', '169', '474', '59', '114', '654']\nuser id  857 recommended item id ['318', '169', '483', '134', '313', '48', '137', '408', '114', '923']\nuser id  864 recommended item id ['272', '285', '963', '313', '302', '170', '657', '479', '484', '1007']\nuser id  865 recommended item id ['285', '124', '657', '127', '480', '135', '479', '483', '178', '513']\nuser id  868 recommended item id ['124', '175', '9', '134', '357', '647', '483', '285', '530', '657']\nuser id  867 recommended item id ['178', '114', '169', '515', '223', '427', '285', '199', '48', '170']\nuser id  861 recommended item id ['318', '496', '64', '79', '923', '408', '174', '114', '169', '190']\nuser id  870 recommended item id ['493', '515', '408', '59', '615', '173', '285', '661', '205', '519']\nuser id  871 recommended item id ['64', '169', '480', '178', '198', '12', '963', '185', '246', '641']\nuser id  875 recommended item id ['127', '408', '178', '285', '483', '318', '198', '191', '513', '100']\nuser id  876 recommended item id ['483', '98', '114', '169', '603', '313', '134', '515', '64', '408']\nuser id  872 recommended item id ['12', '318', '174', '408', '480', '96', '64', '185', '657', '511']\nuser id  866 recommended item id ['50', '169', '12', '408', '480', '127', '178', '168', '318', '64']\nuser id  877 recommended item id ['178', '923', '611', '187', '169', '483', '513', '615', '479', '1449']\nuser id  873 recommended item id ['12', '64', '513', '169', '114', '483', '223', '480', '963', '603']\nuser id  880 recommended item id ['474', '408', '183', '114', '483', '169', '223', '134', '480', '135']\nuser id  878 recommended item id ['169', '272', '408', '480', '305', '513', '114', '86', '519', '302']\nuser id  869 recommended item id ['408', '56', '114', '483', '169', '285', '198', '64', '12', '480']\nuser id  881 recommended item id ['300', '12', '272', '316', '114', '963', '169', '313', '198', '589']\nuser id  879 recommended item id ['64', '12', '169', '89', '408', '1019', '114', '429', '134', '318']\nuser id  883 recommended item id ['654', '169', '641', '474', '488', '923', '136', '132', '1149', '23']\nuser id  882 recommended item id ['64', '651', '603', '318', '12', '313', '197', '23', '483', '22']\nuser id  884 recommended item id ['357', '483', '178', '50', '64', '168', '318', '12', '98', '199']\nuser id  886 recommended item id ['408', '114', '603', '302', '963', '246', '511', '169', '520', '515']\nuser id  885 recommended item id ['963', '22', '64', '187', '511', '498', '520', '496', '705', '313']\nuser id  889 recommended item id ['529', '313', '285', '527', '923', '272', '166', '316', '48', '200']\nuser id  874 recommended item id ['318', '427', '64', '114', '603', '169', '251', '487', '483', '481']\nuser id  892 recommended item id ['114', '408', '169', '657', '474', '963', '313', '647', '251', '272']\nuser id  890 recommended item id ['100', '528', '192', '656', '182', '169', '963', '513', '408', '318']\nuser id  893 recommended item id ['318', '64', '22', '603', '114', '483', '174', '178', '136', '127']\nuser id  887 recommended item id ['480', '317', '198', '189', '589', '513', '114', '186', '488', '86']\nuser id  891 recommended item id ['474', '98', '603', '515', '427', '480', '132', '272', '483', '408']\nuser id  894 recommended item id ['169', '132', '408', '603', '427', '178', '488', '48', '483', '657']\nuser id  896 recommended item id ['114', '169', '750', '487', '268', '357', '166', '45', '792', '963']\nuser id  897 recommended item id ['318', '64', '963', '1194', '408', '589', '114', '191', '59', '480']\nuser id  901 recommended item id ['496', '318', '143', '513', '272', '315', '1194', '64', '963', '187']\nuser id  899 recommended item id ['178', '1194', '921', '408', '272', '169', '511', '524', '30', '657']\nuser id  903 recommended item id ['408', '132', '483', '603', '480', '657', '663', '197', '135', '114']\nuser id  904 recommended item id ['483', '12', '69', '169', '408', '474', '187', '178', '189', '57']\nuser id  907 recommended item id ['242', '474', '95', '194', '603', '241', '515', '512', '165', '480']\nuser id  905 recommended item id ['408', '50', '178', '169', '114', '173', '174', '318', '513', '64']\nuser id  902 recommended item id ['408', '12', '98', '64', '114', '427', '657', '357', '651', '496']\nuser id  898 recommended item id ['187', '318', '480', '515', '127', '169', '408', '223', '963', '357']\nuser id  895 recommended item id ['172', '169', '64', '313', '483', '174', '98', '318', '178', '408']\nuser id  906 recommended item id ['318', '170', '513', '114', '178', '611', '313', '357', '275', '483']\nuser id  900 recommended item id ['114', '64', '192', '479', '275', '963', '173', '302', '169', '603']\nuser id  908 recommended item id ['199', '64', '114', '272', '641', '313', '178', '511', '169', '661']\nuser id  916 recommended item id ['169', '408', '357', '923', '178', '285', '127', '513', '515', '479']\nuser id  911 recommended item id ['169', '963', '127', '408', '12', '515', '114', '520', '641', '302']\nuser id  912 recommended item id ['98', '408', '191', '178', '199', '515', '513', '657', '603', '196']\nuser id  914 recommended item id ['169', '483', '511', '168', '480', '89', '172', '603', '50', '923']\nuser id  918 recommended item id ['169', '515', '408', '114', '483', '611', '178', '285', '318', '657']\nuser id  919 recommended item id ['132', '133', '483', '320', '408', '736', '603', '1143', '170', '513']\nuser id  921 recommended item id ['318', '496', '64', '963', '95', '515', '520', '170', '568', '427']\nuser id  910 recommended item id ['187', '483', '192', '515', '64', '169', '408', '427', '963', '480']\nuser id  913 recommended item id ['114', '87', '134', '48', '124', '1142', '493', '511', '190', '1007']\nuser id  915 recommended item id ['169', '199', '483', '651', '408', '173', '114', '251', '64', '168']\nuser id  922 recommended item id ['169', '64', '170', '651', '166', '498', '408', '496', '272', '735']\nuser id  923 recommended item id ['302', '474', '98', '603', '515', '165', '480', '479', '272', '483']\nuser id  928 recommended item id ['474', '86', '194', '423', '515', '512', '480', '498', '132', '479']\nuser id  927 recommended item id ['114', '190', '318', '12', '117', '89', '923', '511', '313', '657']\nuser id  924 recommended item id ['603', '191', '520', '59', '272', '169', '306', '515', '483', '966']\nuser id  929 recommended item id ['357', '316', '408', '427', '511', '64', '651', '603', '1142', '178']\nuser id  931 recommended item id ['64', '408', '483', '318', '114', '511', '98', '56', '174', '603']\nuser id  917 recommended item id ['603', '178', '318', '199', '488', '408', '483', '12', '529', '515']\nuser id  932 recommended item id ['923', '190', '694', '272', '48', '408', '57', '242', '61', '207']\nuser id  909 recommended item id ['603', '427', '272', '483', '408', '318', '64', '357', '169', '50']\nuser id  934 recommended item id ['189', '178', '515', '98', '169', '28', '408', '346', '896', '647']\nuser id  933 recommended item id ['192', '190', '185', '114', '408', '169', '513', '603', '657', '511']\nuser id  935 recommended item id ['178', '408', '318', '114', '169', '493', '427', '480', '316', '302']\nuser id  938 recommended item id ['169', '173', '963', '408', '272', '480', '318', '488', '64', '285']\nuser id  940 recommended item id ['64', '408', '607', '589', '483', '165', '178', '511', '190', '114']\nuser id  888 recommended item id ['408', '318', '64', '169', '272', '127', '483', '480', '313', '12']\nuser id  925 recommended item id ['178', '272', '50', '114', '408', '12', '603', '641', '169', '963']\nuser id  942 recommended item id ['178', '64', '190', '1449', '963', '12', '483', '143', '482', '114']\nuser id  937 recommended item id ['357', '98', '127', '318', '89', '483', '316', '511', '178', '169']\nuser id  926 recommended item id ['169', '64', '134', '50', '483', '12', '178', '114', '480', '318']\nuser id  943 recommended item id ['178', '180', '156', '169', '603', '474', '651', '302', '265', '408']\nuser id  939 recommended item id ['242', '474', '98', '193', '194', '603', '1137', '196', '515', '480']\nuser id  936 recommended item id ['474', '134', '169', '963', '114', '56', '603', '48', '408', '515']\nuser id  930 recommended item id ['169', '178', '313', '22', '483', '98', '136', '435', '750', '519']\nuser id  920 recommended item id ['50', '285', '64', '408', '169', '172', '318', '12', '174', '357']\nuser id  941 recommended item id ['127', '50', '178', '272', '483', '318', '169', '474', '313', '64']\n"
    }
   ],
   "source": [
    "# split dataset into testset\n",
    "testset = trainset.build_anti_testset()\n",
    "# than predict ratings for all pairs (u,i) that are not int he training set\n",
    "predictions = algo.test(testset)\n",
    "\n",
    "top_n = get_top_n(predictions, n=10)\n",
    "\n",
    "#print the recommended items for each user\n",
    "\n",
    "for uid, user_ratings in top_n.items():\n",
    "    print('user id ',uid, 'recommended item id',[iid for (iid,_) in user_ratings])"
   ]
  },
  {
   "cell_type": "code",
   "execution_count": 5,
   "metadata": {},
   "outputs": [],
   "source": [
    "#Precision@k = |{Recommend items that are relevant}|/|{Recommended items}|\n",
    "#Recall@k = |{Recommended items are relevant}|/|{Relevant items}|\n",
    "#An it is consideered relevant if its true rating rui is greater than a given threshold\n",
    "#An item is considered recommended if its estiamted rating r'ui is greater than the threshold,\n",
    "# # and if it is among hte k highest estimated ratigns"
   ]
  },
  {
   "cell_type": "code",
   "execution_count": 6,
   "metadata": {},
   "outputs": [],
   "source": [
    "from collections import defaultdict\n",
    "from surprise import Dataset\n",
    "from surprise import SVD\n",
    "from surprise.model_selection import KFold"
   ]
  },
  {
   "cell_type": "code",
   "execution_count": 18,
   "metadata": {},
   "outputs": [],
   "source": [
    "def precision_recall_at_k(predictions, k=10, threshold = 3.5):\n",
    "    '''return precision and recall at k metrics for each user'''\n",
    "    #First map the predicions to each user\n",
    "    user_est_true = defaultdict(list)\n",
    "    for uid, _, true_r, est, _ in(predictions):\n",
    "        user_est_true[uid].append((est,true_r))\n",
    "    precisions = dict()\n",
    "    recalls = dict()\n",
    "\n",
    "    for uid, user_ratings, in user_est_true.items():\n",
    "        # sort he user rating by estimated value\n",
    "        user_ratings.sort(key=lambda x: x[0], reverse=True)\n",
    "\n",
    "        #Number of relevant items\n",
    "        n_rel = sum((true_r >= threshold) for (_, true_r) in user_ratings)\n",
    "\n",
    "        #Number of recommended items in top k\n",
    "        n_rec_k = sum((est >= threshold) for (est,_) in user_ratings[:k])\n",
    "    \n",
    "        #Number of relevant and recommended items in top k\n",
    "        n_rel_and_rec_k = sum(((true_r >= threshold) and (est >= threshold)) for (est, true_r) in user_ratings[:k])\n",
    "        # Precision@k: Proportion of recomended items that are relevant\n",
    "        precisions[uid] = n_rel_and_rec_k / n_rec_k if n_rec_k != 0 else 1\n",
    "\n",
    "        #recall@k: propottion of relevant items that are relevant\n",
    "        recalls[uid] = n_rel_and_rec_k / n_rel if n_rel != 0 else 1\n",
    "    return precisions, recalls "
   ]
  },
  {
   "cell_type": "code",
   "execution_count": 23,
   "metadata": {
    "tags": []
   },
   "outputs": [
    {
     "output_type": "stream",
     "name": "stdout",
     "text": "precisions 0.874380750176928\nrecalls 0.2697210847829672\nprecisions 0.8853326256192495\nrecalls 0.2599267587059262\nprecisions 0.8771762208067929\nrecalls 0.2414060123947289\nprecisions 0.8866242038216554\nrecalls 0.25965411639378333\nprecisions 0.8739207360226465\nrecalls 0.26025250636546043\n"
    }
   ],
   "source": [
    "data = Dataset.load_builtin()\n",
    "kf = KFold(n_splits=5)\n",
    "algo = SVD()\n",
    "\n",
    "for trainset, testset in kf.split(data):\n",
    "    algo.fit(trainset)\n",
    "    predictions = algo.test(testset)\n",
    "    precisions, recalls = precision_recall_at_k(predictions, k=5, threshold=4)\n",
    "\n",
    "    #precisions and recall can then be averaged over all users\n",
    "    print('precisions',sum (prec for prec in precisions.values()) / len(precisions))\n",
    "    print('recalls', sum(rec for rec in recalls.values()) / len(recalls))"
   ]
  },
  {
   "cell_type": "code",
   "execution_count": null,
   "metadata": {},
   "outputs": [],
   "source": []
  }
 ],
 "metadata": {
  "language_info": {
   "codemirror_mode": {
    "name": "ipython",
    "version": 3
   },
   "file_extension": ".py",
   "mimetype": "text/x-python",
   "name": "python",
   "nbconvert_exporter": "python",
   "pygments_lexer": "ipython3",
   "version": 3
  },
  "orig_nbformat": 2,
  "kernelspec": {
   "name": "python_defaultSpec_1594974711152",
   "display_name": "Python 3.7.7 64-bit ('recsys': conda)"
  }
 },
 "nbformat": 4,
 "nbformat_minor": 2
}