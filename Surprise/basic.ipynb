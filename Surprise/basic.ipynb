{
 "cells": [
  {
   "cell_type": "code",
   "execution_count": 3,
   "metadata": {
    "tags": []
   },
   "outputs": [
    {
     "output_type": "stream",
     "name": "stdout",
     "text": "Evaluating RMSE, MAE of algorithm myownalgo on 5 split(s).\n\n                  Fold 1  Fold 2  Fold 3  Fold 4  Fold 5  Mean    Std     \nRMSE (testset)    1.2486  1.2377  1.2339  1.2553  1.2451  1.2441  0.0077  \nMAE (testset)     1.0066  0.9921  0.9909  1.0146  1.0041  1.0017  0.0090  \nFit time          0.00    0.02    0.02    0.02    0.02    0.02    0.01    \nTest time         0.04    0.04    0.04    0.09    0.04    0.05    0.02    \n"
    },
    {
     "output_type": "execute_result",
     "data": {
      "text/plain": "{'test_rmse': array([1.24861924, 1.23767928, 1.23387601, 1.25532864, 1.24507028]),\n 'test_mae': array([1.00655, 0.99215, 0.99095, 1.01455, 1.0041 ]),\n 'fit_time': (0.0,\n  0.018953323364257812,\n  0.01891469955444336,\n  0.01994609832763672,\n  0.018933534622192383),\n 'test_time': (0.038897037506103516,\n  0.03590703010559082,\n  0.03593897819519043,\n  0.08978652954101562,\n  0.03591442108154297)}"
     },
     "metadata": {},
     "execution_count": 3
    }
   ],
   "source": [
    "#basics of building recommendation systme\n",
    "#that is a similiar to surprise.prediction_algorithms.preditions.Prediction\n",
    "from surprise import AlgoBase\n",
    "from surprise import Dataset\n",
    "from surprise.model_selection import cross_validate\n",
    "\n",
    "class myownalgo(AlgoBase):\n",
    "    def __init__(self):\n",
    "\n",
    "        #Always call base method before doing anything\n",
    "        AlgoBase.__init__(self)\n",
    "    def estimate(self, u,i):\n",
    "        details = {'info1':'that was', 'info2':'Easy stuff'}\n",
    "        return 3, details\n",
    "\n",
    "data = Dataset.load_builtin()#default ml-100k\n",
    "algo = myownalgo()\n",
    "\n",
    "cross_validate(algo,data, verbose=True)\n",
    "\n"
   ]
  },
  {
   "cell_type": "code",
   "execution_count": 5,
   "metadata": {},
   "outputs": [
    {
     "output_type": "execute_result",
     "data": {
      "text/plain": "(3, {'info1': 'that was', 'info2': 'Easy stuff'})"
     },
     "metadata": {},
     "execution_count": 5
    }
   ],
   "source": [
    "algo.estimate(3,1)"
   ]
  },
  {
   "cell_type": "code",
   "execution_count": 6,
   "metadata": {},
   "outputs": [],
   "source": [
    "#Fit Method\n",
    "import numpy as np\n",
    "class myownalgo2(AlgoBase):\n",
    "    def __init__(self):\n",
    "        #always call base method first\n",
    "        AlgoBase.__init__(self)\n",
    "    def fit(self, trainset):\n",
    "        AlgoBase.fit(self, trainset)\n",
    "\n",
    "        #compute the average rating. we might as well use the\n",
    "        # trainset.global_mean attribute\n",
    "        #ignore the for's indexes just return the rating\n",
    "        self.the_mean = np.mean([r for (_, _, r) in self.trainset.all_ratings()])\n",
    "        #return self means out methods returns a reference to the instance object on which it was called\n",
    "        # it allows us to use fluent and cascading specifications\n",
    "        # like classmethod1().classmethod2().....classmethodn()\n",
    "        # or like this algo.fit(trainset).test(testset)algo.fit(trainset).test(testset)\n",
    "        return self\n",
    "    def estimate(self, u,i):\n",
    "        #trainset attribute\n",
    "        sum_means = self.trainset.global_mean\n",
    "        div = 1\n",
    "\n",
    "        if self.trainset.knows_user(u):\n",
    "            sum_means += np.mean([r for (_, r) in self.trainset.ur[u]])\n",
    "            div +=1\n",
    "        if self.trainset.knows_item(i):\n",
    "            sum_means += np.mean([r for(_,r) in self.trainset.ir[i]])\n",
    "            div += 1\n",
    "            return sum/div    \n",
    "        #return self.the_mean\n",
    "#Note: the fit method called by cross_validate"
   ]
  },
  {
   "cell_type": "code",
   "execution_count": 7,
   "metadata": {},
   "outputs": [],
   "source": [
    "#using baselines and similarities\n",
    "\n",
    "class myownalgo3(AlgoBase):\n",
    "    def __init__(self, sim_options={}, bsl_options={}):\n",
    "        AlgoBase.__init__(self, sim_options=sim_options, bsl_options=bsl_options)\n",
    "        def fit(self, trainset):\n",
    "            AlgoBase.fit(self, trainset)\n",
    "\n",
    "            #compute the baselines and simirilarites\n",
    "            self.bu, self.bi = self.compute_baselines()\n",
    "            self.sim = self.compute_similarities()\n",
    "\n",
    "            return self\n",
    "    def estimate(self, u, i):\n",
    "        if not (self.trainset.knows_user(u) and self.trainset.knows_item(i)):\n",
    "            raise PredictionImpossible('User and/or item is unknown')\n",
    "        #compute similarities between u and v, where v describes all other\n",
    "        # users that have also rated item i\n",
    "        neighbors = [(v, self.sim[u, v]) for(v, r) in self.trainset.ir[i]]\n",
    "        # sort these neighbors by similarity\n",
    "        neighbors = sorted(neighbors, key=lambda x: x[1], reverse=True)\n",
    "        print('the 3 nearset neighbors of user', str(u), 'are:')\n",
    "        for v, sim_uv in neighbors[:3]:\n",
    "            print('user {0:} with sim {1:1.2f}'.format(v, sim_uv))"
   ]
  },
  {
   "cell_type": "code",
   "execution_count": null,
   "metadata": {},
   "outputs": [],
   "source": [
    "algo = myownalgo3()"
   ]
  }
 ],
 "metadata": {
  "language_info": {
   "codemirror_mode": {
    "name": "ipython",
    "version": 3
   },
   "file_extension": ".py",
   "mimetype": "text/x-python",
   "name": "python",
   "nbconvert_exporter": "python",
   "pygments_lexer": "ipython3",
   "version": 3
  },
  "orig_nbformat": 2,
  "kernelspec": {
   "name": "python_defaultSpec_1594884179728",
   "display_name": "Python 3.7.7 64-bit ('recsys': conda)"
  }
 },
 "nbformat": 4,
 "nbformat_minor": 2
}