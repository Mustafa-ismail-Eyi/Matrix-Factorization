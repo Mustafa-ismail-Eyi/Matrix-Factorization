{
 "metadata": {
  "language_info": {
   "codemirror_mode": {
    "name": "ipython",
    "version": 3
   },
   "file_extension": ".py",
   "mimetype": "text/x-python",
   "name": "python",
   "nbconvert_exporter": "python",
   "pygments_lexer": "ipython3",
   "version": 3
  },
  "orig_nbformat": 2,
  "kernelspec": {
   "name": "python_defaultSpec_1595085183214",
   "display_name": "Python 3.7.7 64-bit ('recsys': conda)"
  }
 },
 "nbformat": 4,
 "nbformat_minor": 2,
 "cells": [
  {
   "cell_type": "code",
   "execution_count": 2,
   "metadata": {},
   "outputs": [],
   "source": [
    "#TUNING THE PARAMETERS\n",
    "# we may want to improve our algos, we had to split data into like biased and unbiased\n",
    "# use the biased set for paramters will be used in grid search \n",
    "# other set will be used for unbiased estimation"
   ]
  },
  {
   "cell_type": "code",
   "execution_count": 7,
   "metadata": {},
   "outputs": [],
   "source": [
    "import random\n",
    "from surprise import SVD\n",
    "from surprise import Dataset\n",
    "from surprise import accuracy\n",
    "from surprise.model_selection import KFold, GridSearchCV"
   ]
  },
  {
   "cell_type": "code",
   "execution_count": 10,
   "metadata": {
    "tags": []
   },
   "outputs": [
    {
     "output_type": "stream",
     "name": "stdout",
     "text": "----GRID SEARCH----\n<surprise.prediction_algorithms.matrix_factorization.SVD object at 0x000002278F0E6188>\n"
    }
   ],
   "source": [
    "#load the data\n",
    "data = Dataset.load_builtin()#default ml-100k\n",
    "raw_ratings = data.raw_ratings\n",
    "\n",
    "#shuffle the ratings\n",
    "random.shuffle(raw_ratings)\n",
    "\n",
    "# split the data like train_test_split\n",
    "# A = 0.75, B=0.25 of the data\n",
    "\n",
    "threshold = int(0.75 * len(raw_ratings))\n",
    "A_raw_ratings = raw_ratings[:threshold]\n",
    "B_raw_ratings = raw_ratings[threshold:]\n",
    "data.raw_ratings = A_raw_ratings # data becomes set A\n",
    "\n",
    "# Grid search implementation, it allows to selecet wich parameters are best to train the algorithm\n",
    "# set the parameters range as param_grid\n",
    "print(\"----GRID SEARCH----\")\n",
    "param_grid = {'n_epochs': [5,10], 'lr_all':[0.002, 0.005]}\n",
    "grid_search = GridSearchCV(SVD, param_grid=param_grid, measures=['rmse'], cv=3)\n",
    "grid_search.fit(data)\n",
    "\n",
    "algo = grid_search.best_estimator['rmse']\n",
    "print(algo)"
   ]
  },
  {
   "cell_type": "code",
   "execution_count": 11,
   "metadata": {
    "tags": []
   },
   "outputs": [
    {
     "output_type": "stream",
     "name": "stdout",
     "text": "biased accuracy on A,RMSE: 0.8420\nunbiased accuracy on B,  RMSE: 0.9475\n"
    },
    {
     "output_type": "execute_result",
     "data": {
      "text/plain": "0.9474531487114454"
     },
     "metadata": {},
     "execution_count": 11
    }
   ],
   "source": [
    "#retrain the on whole set A\n",
    "trainset = data.build_full_trainset()\n",
    "algo.fit(trainset)\n",
    "\n",
    "#compute the biased whole set A\n",
    "predictions = algo.test(trainset.build_testset())\n",
    "print('biased accuracy on A,', end='    ')\n",
    "accuracy.rmse(predictions)\n",
    "\n",
    "#compute the unbiased accuracy on B\n",
    "testset = data.construct_testset(B_raw_ratings) # testset i now the set B\n",
    "predictions = algo.test(testset)\n",
    "print('unbiased accuracy on B,', end='  ')\n",
    "accuracy.rmse(predictions)"
   ]
  },
  {
   "cell_type": "code",
   "execution_count": 12,
   "metadata": {},
   "outputs": [],
   "source": [
    "#untracked"
   ]
  },
  {
   "cell_type": "code",
   "execution_count": null,
   "metadata": {},
   "outputs": [],
   "source": []
  }
 ]
}