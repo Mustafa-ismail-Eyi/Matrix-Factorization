{
 "cells": [
  {
   "cell_type": "code",
   "execution_count": 4,
   "metadata": {},
   "outputs": [],
   "source": [
    "from surprise import SVD\n",
    "from surprise import Dataset\n",
    "from surprise.model_selection import cross_validate"
   ]
  },
  {
   "cell_type": "code",
   "execution_count": 6,
   "metadata": {
    "tags": []
   },
   "outputs": [
    {
     "output_type": "stream",
     "name": "stdout",
     "text": "Evaluating RMSE, MAE of algorithm SVD on 5 split(s).\n\n                  Fold 1  Fold 2  Fold 3  Fold 4  Fold 5  Mean    Std     \nRMSE (testset)    0.9371  0.9339  0.9317  0.9417  0.9457  0.9380  0.0051  \nMAE (testset)     0.7394  0.7361  0.7331  0.7428  0.7432  0.7389  0.0039  \nFit time          3.60    3.59    3.73    3.63    3.70    3.65    0.06    \nTest time         0.11    0.19    0.11    0.17    0.10    0.14    0.04    \n"
    },
    {
     "output_type": "execute_result",
     "data": {
      "text/plain": "{'test_rmse': array([0.9371472 , 0.93393866, 0.93168328, 0.94173797, 0.94571716]),\n 'test_mae': array([0.73938884, 0.7360859 , 0.73313246, 0.74279512, 0.7432153 ]),\n 'fit_time': (3.598820686340332,\n  3.5933096408843994,\n  3.7299633026123047,\n  3.6316676139831543,\n  3.7030913829803467),\n 'test_time': (0.11074447631835938,\n  0.18853163719177246,\n  0.10841727256774902,\n  0.1718893051147461,\n  0.10272526741027832)}"
     },
     "metadata": {},
     "execution_count": 6
    }
   ],
   "source": [
    "data = Dataset.load_builtin()\n",
    "algo = SVD()\n",
    "cross_validate(algo,data, cv=5, verbose=True)"
   ]
  },
  {
   "cell_type": "code",
   "execution_count": 9,
   "metadata": {},
   "outputs": [],
   "source": [
    "#USING PREDICTION ALGORITHMS\n",
    "from surprise import KNNBasic, BaselineOnly\n",
    "#BASELINES ESTIMATES CONFIGURATION\n",
    "# algorithm try to minimize regularized squared error"
   ]
  },
  {
   "cell_type": "code",
   "execution_count": 10,
   "metadata": {},
   "outputs": [],
   "source": [
    "# Two different baseline exit\n",
    "# bsl_options parameter passed at the creation of an algorithm it includes method key as default als(alternating least square error)\n",
    "# 1. als:\n",
    "    # reg_i --> regularization parameter  for items. lambda2 = 10 default\n",
    "    # reg_u --> regularization paramter for users. lambda3 = 15 default\n",
    "    # n_epochs --> number of iteration. default 10\n",
    "# 2. SGD (stochastic Gradient Descent)\n",
    "#    reg --> regularization of the cost function that is optimized, lambda = 0.02 default\n",
    "#    learning_rate --> learning rate based on weird Y in SGD, Y=0.005 defautl\n",
    "#    n_epochs --> iteration. n_epochs = 20 is default\n",
    "# for both procedures user biases and item biases(bu, bi) initialized to zero"
   ]
  },
  {
   "cell_type": "code",
   "execution_count": 11,
   "metadata": {
    "tags": []
   },
   "outputs": [
    {
     "output_type": "stream",
     "name": "stdout",
     "text": "using Als\n"
    }
   ],
   "source": [
    "print('using Als')\n",
    "bsl_options = {'method': 'als', 'n_epochs': 5, 'reg_u': 12, 'reg_i': 5}\n",
    "algo = BaselineOnly(bsl_options = bsl_options)"
   ]
  },
  {
   "cell_type": "code",
   "execution_count": 12,
   "metadata": {
    "tags": []
   },
   "outputs": [
    {
     "output_type": "stream",
     "name": "stdout",
     "text": "SGD\n"
    }
   ],
   "source": [
    "print('SGD')\n",
    "bsl_options = {'method': 'sgd', 'learning_rate': 0.00005}\n",
    "algo = BaselineOnly(bsl_options=bsl_options)"
   ]
  },
  {
   "cell_type": "code",
   "execution_count": 13,
   "metadata": {},
   "outputs": [],
   "source": [
    "# SIMILARITY MEASURE CONFIGURATION\n",
    "# Many algorithms use a similarity measure to estimate a rating. parameter is 'sim_option'\n",
    "# sim_option arguments:{\n",
    "#   name: the name of similarity to use, default(msd), pearson, pearson_baseline, cosine\n",
    "#    user_based: similarity will be computed between users or between items. True for users\n",
    "#   min_support: the minumum number of common items(user_based is true) or vice versa\n",
    "# shrinkage: parameter of pearson_baseline. Default 100\n",
    "sim_options = {'name': 'cosine',\n",
    "               'user_based':False # computes similarities between items \n",
    "               }\n",
    "algo = KNNBasic(sim_options=sim_options)"
   ]
  },
  {
   "cell_type": "code",
   "execution_count": null,
   "metadata": {},
   "outputs": [],
   "source": []
  }
 ],
 "metadata": {
  "language_info": {
   "codemirror_mode": {
    "name": "ipython",
    "version": 3
   },
   "file_extension": ".py",
   "mimetype": "text/x-python",
   "name": "python",
   "nbconvert_exporter": "python",
   "pygments_lexer": "ipython3",
   "version": "3.7.7-final"
  },
  "orig_nbformat": 2,
  "kernelspec": {
   "name": "python_defaultSpec_1594845814541",
   "display_name": "Python 3.7.7 64-bit ('recsys': conda)"
  }
 },
 "nbformat": 4,
 "nbformat_minor": 2
}